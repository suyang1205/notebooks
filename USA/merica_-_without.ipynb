{
 "metadata": {
  "name": ""
 },
 "nbformat": 3,
 "nbformat_minor": 0,
 "worksheets": [
  {
   "cells": [
    {
     "cell_type": "code",
     "collapsed": false,
     "input": [
      "import pandas as pd\n",
      "import matplotlib as mpl\n",
      "import matplotlib.pyplot as plt\n",
      "import numpy as np\n",
      "\n",
      "pd.__version__, np.__version__\n",
      "\n",
      "import Quandl as quandl\n",
      "import json\n",
      "#KEY = '...'\n",
      "#!mkdir ./.keys\n",
      "#with open('./.keys/quandl-api-key.json','w') as f:\n",
      "#    json.dump({'key': KEY}, f)\n",
      "#with open('./.keys/quandl-api-key.json','r') as f:\n",
      "#    quandl_token = json.load(f)['key']\n",
      "\n",
      "import functools\n",
      "_quandl_get = functools.partial(quandl.get, authtoken=quandl_token)"
     ],
     "language": "python",
     "metadata": {},
     "outputs": [
      {
       "ename": "NameError",
       "evalue": "name 'quandl_token' is not defined",
       "output_type": "pyerr",
       "traceback": [
        "\u001b[1;31m---------------------------------------------------------------------------\u001b[0m\n\u001b[1;31mNameError\u001b[0m                                 Traceback (most recent call last)",
        "\u001b[1;32m<ipython-input-1-8766c537cbe0>\u001b[0m in \u001b[0;36m<module>\u001b[1;34m()\u001b[0m\n\u001b[0;32m     16\u001b[0m \u001b[1;33m\u001b[0m\u001b[0m\n\u001b[0;32m     17\u001b[0m \u001b[1;32mimport\u001b[0m \u001b[0mfunctools\u001b[0m\u001b[1;33m\u001b[0m\u001b[0m\n\u001b[1;32m---> 18\u001b[1;33m \u001b[0m_quandl_get\u001b[0m \u001b[1;33m=\u001b[0m \u001b[0mfunctools\u001b[0m\u001b[1;33m.\u001b[0m\u001b[0mpartial\u001b[0m\u001b[1;33m(\u001b[0m\u001b[0mquandl\u001b[0m\u001b[1;33m.\u001b[0m\u001b[0mget\u001b[0m\u001b[1;33m,\u001b[0m \u001b[0mauthtoken\u001b[0m\u001b[1;33m=\u001b[0m\u001b[0mquandl_token\u001b[0m\u001b[1;33m)\u001b[0m\u001b[1;33m\u001b[0m\u001b[0m\n\u001b[0m",
        "\u001b[1;31mNameError\u001b[0m: name 'quandl_token' is not defined"
       ]
      }
     ],
     "prompt_number": 1
    },
    {
     "cell_type": "code",
     "collapsed": false,
     "input": [
      "# http://www.quandl.com/FRED-Federal-Reserve-Economic-Data/USARGDPR-Real-GDP-in-the-United-States\n",
      "# http://www.quandl.com/FRED-Federal-Reserve-Economic-Data/GDP-Gross-Domestic-Product-1-Decimal\n",
      "# http://www.quandl.com/FRED-Federal-Reserve-Economic-Data/FYGFD-Gross-Federal-Debt\n",
      "# http://www.quandl.com/FRED-Federal-Reserve-Economic-Data/USAPOPL-Population-in-the-United-States\n",
      "# http://www.quandl.com/FRED-Federal-Reserve-Economic-Data/CPIAUCSL-Consumer-Price-Index-for-All-Urban-Consumers-All-Items-USA-Inflation\n",
      "import collections\n",
      "_data = collections.OrderedDict()\n",
      "for _key in ['FRED/USARGDPR', 'FRED/GDP', 'FRED/FYGFD', 'FRED/USAPOPL', 'FRED/CPIAUCSL']:\n",
      "    _data[_key.replace('/','_')] = _quandl_get(_key)\n"
     ],
     "language": "python",
     "metadata": {},
     "outputs": [
      {
       "ename": "NameError",
       "evalue": "name '_quandl_get' is not defined",
       "output_type": "pyerr",
       "traceback": [
        "\u001b[1;31m---------------------------------------------------------------------------\u001b[0m\n\u001b[1;31mNameError\u001b[0m                                 Traceback (most recent call last)",
        "\u001b[1;32m<ipython-input-8-8c9edf886867>\u001b[0m in \u001b[0;36m<module>\u001b[1;34m()\u001b[0m\n\u001b[0;32m      7\u001b[0m \u001b[0m_data\u001b[0m \u001b[1;33m=\u001b[0m \u001b[0mcollections\u001b[0m\u001b[1;33m.\u001b[0m\u001b[0mOrderedDict\u001b[0m\u001b[1;33m(\u001b[0m\u001b[1;33m)\u001b[0m\u001b[1;33m\u001b[0m\u001b[0m\n\u001b[0;32m      8\u001b[0m \u001b[1;32mfor\u001b[0m \u001b[0m_key\u001b[0m \u001b[1;32min\u001b[0m \u001b[1;33m[\u001b[0m\u001b[1;34m'FRED/USARGDPR'\u001b[0m\u001b[1;33m,\u001b[0m \u001b[1;34m'FRED/GDP'\u001b[0m\u001b[1;33m,\u001b[0m \u001b[1;34m'FRED/FYGFD'\u001b[0m\u001b[1;33m,\u001b[0m \u001b[1;34m'FRED/USAPOPL'\u001b[0m\u001b[1;33m,\u001b[0m \u001b[1;34m'FRED/CPIAUCSL'\u001b[0m\u001b[1;33m]\u001b[0m\u001b[1;33m:\u001b[0m\u001b[1;33m\u001b[0m\u001b[0m\n\u001b[1;32m----> 9\u001b[1;33m     \u001b[0m_data\u001b[0m\u001b[1;33m[\u001b[0m\u001b[0m_key\u001b[0m\u001b[1;33m.\u001b[0m\u001b[0mreplace\u001b[0m\u001b[1;33m(\u001b[0m\u001b[1;34m'/'\u001b[0m\u001b[1;33m,\u001b[0m\u001b[1;34m'_'\u001b[0m\u001b[1;33m)\u001b[0m\u001b[1;33m]\u001b[0m \u001b[1;33m=\u001b[0m \u001b[0m_quandl_get\u001b[0m\u001b[1;33m(\u001b[0m\u001b[0m_key\u001b[0m\u001b[1;33m)\u001b[0m\u001b[1;33m\u001b[0m\u001b[0m\n\u001b[0m",
        "\u001b[1;31mNameError\u001b[0m: name '_quandl_get' is not defined"
       ]
      }
     ],
     "prompt_number": 8
    },
    {
     "cell_type": "code",
     "collapsed": false,
     "input": [
      "mpl.rcParams['figure.figsize'] = (20,4)"
     ],
     "language": "python",
     "metadata": {},
     "outputs": [],
     "prompt_number": 9
    },
    {
     "cell_type": "code",
     "collapsed": false,
     "input": [
      "\n",
      "for k,v in _data.iteritems():\n",
      "    v.plot(\n",
      "        title=k,\n",
      "        xlim=('1940','2020'),\n",
      "        ylim=(0, v.max()),\n",
      "        xticks=[str(x) for x in range(1949,2017,4)],\n",
      "        x_compat=True)\n",
      "#usargdpr.plot(), usagdp.plot(), fygfd.plot(), popl.plot()\n",
      "#usargdpr."
     ],
     "language": "python",
     "metadata": {},
     "outputs": [],
     "prompt_number": 10
    },
    {
     "cell_type": "code",
     "collapsed": false,
     "input": [
      "_data['FRED_USARGDPR'].head(), _data['FRED_FYGFD'].head()"
     ],
     "language": "python",
     "metadata": {},
     "outputs": [
      {
       "ename": "KeyError",
       "evalue": "'FRED_USARGDPR'",
       "output_type": "pyerr",
       "traceback": [
        "\u001b[1;31m---------------------------------------------------------------------------\u001b[0m\n\u001b[1;31mKeyError\u001b[0m                                  Traceback (most recent call last)",
        "\u001b[1;32m<ipython-input-11-56efb3f5a427>\u001b[0m in \u001b[0;36m<module>\u001b[1;34m()\u001b[0m\n\u001b[1;32m----> 1\u001b[1;33m \u001b[0m_data\u001b[0m\u001b[1;33m[\u001b[0m\u001b[1;34m'FRED_USARGDPR'\u001b[0m\u001b[1;33m]\u001b[0m\u001b[1;33m.\u001b[0m\u001b[0mhead\u001b[0m\u001b[1;33m(\u001b[0m\u001b[1;33m)\u001b[0m\u001b[1;33m,\u001b[0m \u001b[0m_data\u001b[0m\u001b[1;33m[\u001b[0m\u001b[1;34m'FRED_FYGFD'\u001b[0m\u001b[1;33m]\u001b[0m\u001b[1;33m.\u001b[0m\u001b[0mhead\u001b[0m\u001b[1;33m(\u001b[0m\u001b[1;33m)\u001b[0m\u001b[1;33m\u001b[0m\u001b[0m\n\u001b[0m",
        "\u001b[1;31mKeyError\u001b[0m: 'FRED_USARGDPR'"
       ]
      }
     ],
     "prompt_number": 11
    },
    {
     "cell_type": "code",
     "collapsed": false,
     "input": [
      "((_data['FRED_USARGDPR'].resample('A', how='mean'))\n",
      " / _data['FRED_FYGFD'].resample('A', how='mean')).plot(title='USARGDPR / FYGFD')\n",
      "((_data['FRED_GDP'].resample('A', how='mean'))\n",
      " / _data['FRED_FYGFD'].resample('A', how='mean')).plot(title='GDP / FYGFD')"
     ],
     "language": "python",
     "metadata": {},
     "outputs": []
    },
    {
     "cell_type": "code",
     "collapsed": false,
     "input": [
      "((_data['FRED_GDP'].resample('A', how='mean'))\n",
      " / _data['FRED_USAPOPL'].resample('A', how='mean')).plot(title='FRED_GDP / FRED_USAPOPL')"
     ],
     "language": "python",
     "metadata": {},
     "outputs": []
    },
    {
     "cell_type": "code",
     "collapsed": false,
     "input": [
      "((_data['FRED_FYGFD'].resample('A', how='mean'))\n",
      " / _data['FRED_GDP'].resample('A', how='mean')).plot(title='FRED_FYGFD / FRED_GDP')"
     ],
     "language": "python",
     "metadata": {},
     "outputs": []
    },
    {
     "cell_type": "code",
     "collapsed": false,
     "input": [
      "plot = _data['FRED_CPIAUCSL'].resample('A', how='mean').plot(\n",
      "    xticks=[str(x) for x in range(1949,2017,4)],\n",
      "    x_compat=True,\n",
      "    title=\"Yearly Inflation (CPI)\"\n",
      "    )\n",
      "plot.legend(loc='upper left')\n",
      "\n",
      "\n",
      "def add_line(plot, _year, text=None):\n",
      "    _max = plot.yaxis.get_view_interval()[-1]\n",
      "    plot.plot((_year,_year), (0, _max),\n",
      "            color='gray', linewidth=1.5, linestyle=\"--\")\n",
      "    plot.annotate(\n",
      "                text if text is not None else _year,\n",
      "                xy=(_year, 0),\n",
      "                xycoords='data',\n",
      "                xytext=(+10, +30),\n",
      "                textcoords='offset points',\n",
      "                fontsize=12,\n",
      "                #arrowprops=dict(arrowstyle=\"->\"), #, connectionstyle=\"\"), #arc3,rad=.2\"),\n",
      "                rotation='vertical',\n",
      "                verticalalignment='bottom',\n",
      "                horizontalalignment='center')\n",
      "\n",
      "for year in range(1949, 2017, 4):\n",
      "    add_line(plot, str(year))\n",
      "\n",
      "display(plot)\n"
     ],
     "language": "python",
     "metadata": {},
     "outputs": [
      {
       "ename": "KeyError",
       "evalue": "'FRED_CPIAUCSL'",
       "output_type": "pyerr",
       "traceback": [
        "\u001b[1;31m---------------------------------------------------------------------------\u001b[0m\n\u001b[1;31mKeyError\u001b[0m                                  Traceback (most recent call last)",
        "\u001b[1;32m<ipython-input-12-173a0b5b6889>\u001b[0m in \u001b[0;36m<module>\u001b[1;34m()\u001b[0m\n\u001b[1;32m----> 1\u001b[1;33m plot = _data['FRED_CPIAUCSL'].resample('A', how='mean').plot(\n\u001b[0m\u001b[0;32m      2\u001b[0m     \u001b[0mxticks\u001b[0m\u001b[1;33m=\u001b[0m\u001b[1;33m[\u001b[0m\u001b[0mstr\u001b[0m\u001b[1;33m(\u001b[0m\u001b[0mx\u001b[0m\u001b[1;33m)\u001b[0m \u001b[1;32mfor\u001b[0m \u001b[0mx\u001b[0m \u001b[1;32min\u001b[0m \u001b[0mrange\u001b[0m\u001b[1;33m(\u001b[0m\u001b[1;36m1949\u001b[0m\u001b[1;33m,\u001b[0m\u001b[1;36m2017\u001b[0m\u001b[1;33m,\u001b[0m\u001b[1;36m4\u001b[0m\u001b[1;33m)\u001b[0m\u001b[1;33m]\u001b[0m\u001b[1;33m,\u001b[0m\u001b[1;33m\u001b[0m\u001b[0m\n\u001b[0;32m      3\u001b[0m     \u001b[0mx_compat\u001b[0m\u001b[1;33m=\u001b[0m\u001b[0mTrue\u001b[0m\u001b[1;33m,\u001b[0m\u001b[1;33m\u001b[0m\u001b[0m\n\u001b[0;32m      4\u001b[0m     \u001b[0mtitle\u001b[0m\u001b[1;33m=\u001b[0m\u001b[1;34m\"Yearly Inflation (CPI)\"\u001b[0m\u001b[1;33m\u001b[0m\u001b[0m\n\u001b[0;32m      5\u001b[0m     )\n",
        "\u001b[1;31mKeyError\u001b[0m: 'FRED_CPIAUCSL'"
       ]
      }
     ],
     "prompt_number": 12
    },
    {
     "cell_type": "code",
     "collapsed": false,
     "input": [
      "\n",
      "def get_presidents_df(data_file='./data/us_presidents.csv'):\n",
      "    #!wget 'https://commondatastorage.googleapis.com/ckannet-storage/2012-05-08T122246/USPresident-Wikipedia-URLs-Thmbs-HS.csv' -O ./data/us_presidents.csv\n",
      "    df = presidents = pd.read_csv(data_file)\n",
      "    \n",
      "    df = presidents[['President ','Took office ','Left office ']]\n",
      "    df['Took office '] = pd.to_datetime(presidents['Took office '])\n",
      "    df['Left office '] = pd.to_datetime(presidents['Left office '], coerce=True)\n",
      "    #display(df)\n",
      "    df = df.set_index('Took office ', drop=False, verify_integrity=True)\n",
      "    df['term'] = df['Left office '] - df['Took office ']\n",
      "    \n",
      "    col = df['term']\n",
      "    val = col[0]\n",
      "    df['term'] = (\n",
      "        col.apply(\n",
      "            lambda x: x.astype('timedelta64[D]'),\n",
      "            convert_dtype=False))\n",
      "    col = df['term']\n",
      "    val = col[0]\n",
      "    val.item().days\n",
      "    df['terms'] = df['term'].apply(\n",
      "        lambda x: (x.item().days if x.item() else 0)\n",
      "        / float(365.25*4))\n",
      "    return df\n",
      "\n",
      "#df['terms'] = (df['term'] / np.timedelta64(1, 'D')) / float(365.25*4) # pandas 0.13\n",
      "\n",
      "df = get_presidents_df()\n",
      "display(df.head())\n",
      "\n",
      "def presidents_by_year(df=None):\n",
      "    if df is None:\n",
      "        df = get_presidents_df()\n",
      "    for year,name in df.ix[:,['President ']].to_records():\n",
      "        print(year.year, name)\n",
      "\n",
      "def add_presidents(plot, presidents=None, yearmin=0):\n",
      "    if presidents is None:\n",
      "        presidents = get_presidents_df()\n",
      "\n",
      "    for year,name in presidents.ix[str(yearmin):,['President ']].to_records():\n",
      "        #print year.year, name\n",
      "        add_line(plot, year, name)\n",
      "\n",
      "def poli_plot(df, **kwargs):\n",
      "    yearmin = df.index.min().year\n",
      "    yearmax = 2017\n",
      "    \n",
      "    plot = df.plot(\n",
      "        xticks=[str(x) for x in range(yearmax, yearmin,-4)],\n",
      "        x_compat=True,\n",
      "        **kwargs)\n",
      "    plot.legend(loc='upper left')\n",
      "    \n",
      "    add_presidents(plot, yearmin=yearmin)\n",
      "    return plot\n"
     ],
     "language": "python",
     "metadata": {},
     "outputs": [
      {
       "ename": "AttributeError",
       "evalue": "'long' object has no attribute 'days'",
       "output_type": "pyerr",
       "traceback": [
        "\u001b[1;31m---------------------------------------------------------------------------\u001b[0m\n\u001b[1;31mAttributeError\u001b[0m                            Traceback (most recent call last)",
        "\u001b[1;32m<ipython-input-13-ea7dd0b78148>\u001b[0m in \u001b[0;36m<module>\u001b[1;34m()\u001b[0m\n\u001b[0;32m     27\u001b[0m \u001b[1;31m#df['terms'] = (df['term'] / np.timedelta64(1, 'D')) / float(365.25*4) # pandas 0.13\u001b[0m\u001b[1;33m\u001b[0m\u001b[1;33m\u001b[0m\u001b[0m\n\u001b[0;32m     28\u001b[0m \u001b[1;33m\u001b[0m\u001b[0m\n\u001b[1;32m---> 29\u001b[1;33m \u001b[0mdf\u001b[0m \u001b[1;33m=\u001b[0m \u001b[0mget_presidents_df\u001b[0m\u001b[1;33m(\u001b[0m\u001b[1;33m)\u001b[0m\u001b[1;33m\u001b[0m\u001b[0m\n\u001b[0m\u001b[0;32m     30\u001b[0m \u001b[0mdisplay\u001b[0m\u001b[1;33m(\u001b[0m\u001b[0mdf\u001b[0m\u001b[1;33m.\u001b[0m\u001b[0mhead\u001b[0m\u001b[1;33m(\u001b[0m\u001b[1;33m)\u001b[0m\u001b[1;33m)\u001b[0m\u001b[1;33m\u001b[0m\u001b[0m\n\u001b[0;32m     31\u001b[0m \u001b[1;33m\u001b[0m\u001b[0m\n",
        "\u001b[1;32m<ipython-input-13-ea7dd0b78148>\u001b[0m in \u001b[0;36mget_presidents_df\u001b[1;34m(data_file)\u001b[0m\n\u001b[0;32m     19\u001b[0m     \u001b[0mcol\u001b[0m \u001b[1;33m=\u001b[0m \u001b[0mdf\u001b[0m\u001b[1;33m[\u001b[0m\u001b[1;34m'term'\u001b[0m\u001b[1;33m]\u001b[0m\u001b[1;33m\u001b[0m\u001b[0m\n\u001b[0;32m     20\u001b[0m     \u001b[0mval\u001b[0m \u001b[1;33m=\u001b[0m \u001b[0mcol\u001b[0m\u001b[1;33m[\u001b[0m\u001b[1;36m0\u001b[0m\u001b[1;33m]\u001b[0m\u001b[1;33m\u001b[0m\u001b[0m\n\u001b[1;32m---> 21\u001b[1;33m     \u001b[0mval\u001b[0m\u001b[1;33m.\u001b[0m\u001b[0mitem\u001b[0m\u001b[1;33m(\u001b[0m\u001b[1;33m)\u001b[0m\u001b[1;33m.\u001b[0m\u001b[0mdays\u001b[0m\u001b[1;33m\u001b[0m\u001b[0m\n\u001b[0m\u001b[0;32m     22\u001b[0m     df['terms'] = df['term'].apply(\n\u001b[0;32m     23\u001b[0m         \u001b[1;32mlambda\u001b[0m \u001b[0mx\u001b[0m\u001b[1;33m:\u001b[0m \u001b[1;33m(\u001b[0m\u001b[0mx\u001b[0m\u001b[1;33m.\u001b[0m\u001b[0mitem\u001b[0m\u001b[1;33m(\u001b[0m\u001b[1;33m)\u001b[0m\u001b[1;33m.\u001b[0m\u001b[0mdays\u001b[0m \u001b[1;32mif\u001b[0m \u001b[0mx\u001b[0m\u001b[1;33m.\u001b[0m\u001b[0mitem\u001b[0m\u001b[1;33m(\u001b[0m\u001b[1;33m)\u001b[0m \u001b[1;32melse\u001b[0m \u001b[1;36m0\u001b[0m\u001b[1;33m)\u001b[0m\u001b[1;33m\u001b[0m\u001b[0m\n",
        "\u001b[1;31mAttributeError\u001b[0m: 'long' object has no attribute 'days'"
       ]
      }
     ],
     "prompt_number": 13
    },
    {
     "cell_type": "code",
     "collapsed": false,
     "input": [
      "\n",
      "df = _data['FRED_CPIAUCSL']\n",
      "poli_plot(df)"
     ],
     "language": "python",
     "metadata": {},
     "outputs": []
    },
    {
     "cell_type": "code",
     "collapsed": false,
     "input": [
      "df = ((_data['FRED_GDP'].resample('A', how='mean')) / _data['FRED_USAPOPL'].resample('A', how='mean'))\n",
      "poli_plot(df, title=\"GDP per capita (thousands of dollars)\")"
     ],
     "language": "python",
     "metadata": {},
     "outputs": []
    },
    {
     "cell_type": "code",
     "collapsed": false,
     "input": [
      "df = ((_data['FRED_FYGFD'].resample('A', how='mean')) / _data['FRED_USAPOPL'].resample('A', how='mean'))\n",
      "poli_plot(df, title=\"Federal debt per capita (thousands of dollars)\")"
     ],
     "language": "python",
     "metadata": {},
     "outputs": []
    },
    {
     "cell_type": "code",
     "collapsed": false,
     "input": [
      "\n",
      "inflation_factor_linear = (_data['FRED_CPIAUCSL'] / _data['FRED_CPIAUCSL'].max()).resample('A', how='mean')\n",
      "inflation_factor_uhh = 1 / inflation_factor_linear\n",
      "cpi = inflation_factor_uhh\n",
      "#display( cpi.head()) \n",
      "#display( cpi.tail())\n",
      "\n",
      "\n",
      "df = ((_data['FRED_FYGFD'].resample('A', how='mean')) / _data['FRED_USAPOPL'].resample('A', how='mean'))\n",
      "#print( df.columns )\n",
      "\n",
      "scaled = (df * cpi)\n",
      "#display(scaled.tail())\n",
      "display(poli_plot(_data['FRED_CPIAUCSL'], title=\"inflation (FRED CPI UCSL)\"))\n",
      "plot = poli_plot(_data['FRED_CPIAUCSL'].resample('A','mean').pct_change(), title='yearly % change in inflation')\n",
      "plot.axhline()\n",
      "\n",
      "display(plot)\n",
      "\n",
      "\n",
      "display(poli_plot(df, title=\"debt-per-capita\"))\n",
      "display(poli_plot(scaled, title=\"debt-per-capita scaled for inflation\"))\n",
      "plot = poli_plot(scaled.pct_change(), title=\"Yearly % change in debt-per-capita scaled for inflation\")\n",
      "plot.axhline()\n",
      "display(plot)\n",
      "\n",
      "\n",
      "#poli_plot(df)\n",
      "#poli_plot(df * inflation_factor_linear)"
     ],
     "language": "python",
     "metadata": {},
     "outputs": []
    },
    {
     "cell_type": "code",
     "collapsed": false,
     "input": [],
     "language": "python",
     "metadata": {},
     "outputs": [
      {
       "metadata": {},
       "output_type": "pyout",
       "prompt_number": 376,
       "text": [
        "True"
       ]
      }
     ],
     "prompt_number": 376
    },
    {
     "cell_type": "code",
     "collapsed": false,
     "input": [
      "# TODO: add house/senate majority party\n",
      "# TODO: add major wars"
     ],
     "language": "python",
     "metadata": {},
     "outputs": [],
     "prompt_number": 390
    },
    {
     "cell_type": "code",
     "collapsed": false,
     "input": [
      "#!wget https://github.com/unitedstates/congress-legislators/raw/master/legislators-historical.yaml -O ./data/legislators-historical.yaml\n",
      "#!wget https://github.com/unitedstates/congress-legislators/raw/master/legislators-current.yaml -O ./data/legislators-current.yaml\n",
      "#import yaml\n",
      "#data = None\n",
      "#with open('./data/legislators-historical.yaml','rb') as f:\n",
      "#    data = yaml.load(f)\n",
      "!ls ./data"
     ],
     "language": "python",
     "metadata": {},
     "outputs": [
      {
       "output_type": "stream",
       "stream": "stdout",
       "text": [
        "legislators-current.yaml     sample_portfolio.csv\r\n",
        "legislators-historical.yaml  us_presidents.csv\r\n"
       ]
      }
     ],
     "prompt_number": 285
    },
    {
     "cell_type": "code",
     "collapsed": false,
     "input": [
      "import yaml\n",
      "def iter_members(\n",
      "    data_files=['./data/legislators-historical.yaml',\n",
      "                './data/legislators-current.yaml']):\n",
      "    \n",
      "    for data_file in data_files:\n",
      "        data = None\n",
      "        with open(data_file,'rb') as f:\n",
      "            data = yaml.load(f)\n",
      "        for m in data:\n",
      "            for t in m['terms']:\n",
      "                yield (\n",
      "                    t['state'],\n",
      "                    t['type'],\n",
      "                    t['start'],\n",
      "                    t['end'],\n",
      "                    t.get('party'),\n",
      "                    m['name']['first'],\n",
      "                    m['name']['last'],\n",
      "                    m.get('bio',{}).get('gender', 'M'), # ...\n",
      "                    m.get('bio',{}).get('birthday')\n",
      "                )\n",
      "iter_members.columns = [\n",
      "    'state',\n",
      "    'type',\n",
      "    'start',\n",
      "    'end',\n",
      "    'party',\n",
      "    'first',\n",
      "    'last',\n",
      "    'gender',\n",
      "    'birthday'\n",
      "]\n",
      "\n",
      "_legislator_data = list(iter_members())"
     ],
     "language": "python",
     "metadata": {},
     "outputs": [],
     "prompt_number": 286
    },
    {
     "cell_type": "code",
     "collapsed": false,
     "input": [
      "df = pd.DataFrame.from_records(\n",
      "    _legislator_data,\n",
      "    columns=iter_members.columns)\n",
      "df['start'] = pd.to_datetime(df['start'])\n",
      "df['end'] = pd.to_datetime(df['end'])\n",
      "df['birthday'] = pd.to_datetime(df['birthday'])\n",
      "df.set_index('start', drop=False, inplace=True)\n",
      "display(df.head())\n",
      "display(df)"
     ],
     "language": "python",
     "metadata": {},
     "outputs": [
      {
       "html": [
        "<div style=\"max-height:1000px;max-width:1500px;overflow:auto;\">\n",
        "<table border=\"1\" class=\"dataframe\">\n",
        "  <thead>\n",
        "    <tr style=\"text-align: right;\">\n",
        "      <th></th>\n",
        "      <th>state</th>\n",
        "      <th>type</th>\n",
        "      <th>start</th>\n",
        "      <th>end</th>\n",
        "      <th>party</th>\n",
        "      <th>first</th>\n",
        "      <th>last</th>\n",
        "      <th>gender</th>\n",
        "      <th>birthday</th>\n",
        "    </tr>\n",
        "    <tr>\n",
        "      <th>start</th>\n",
        "      <th></th>\n",
        "      <th></th>\n",
        "      <th></th>\n",
        "      <th></th>\n",
        "      <th></th>\n",
        "      <th></th>\n",
        "      <th></th>\n",
        "      <th></th>\n",
        "      <th></th>\n",
        "    </tr>\n",
        "  </thead>\n",
        "  <tbody>\n",
        "    <tr>\n",
        "      <th>1789-03-04</th>\n",
        "      <td> DE</td>\n",
        "      <td> sen</td>\n",
        "      <td>1789-03-04 00:00:00</td>\n",
        "      <td>1793-03-02 00:00:00</td>\n",
        "      <td> Anti-Administration</td>\n",
        "      <td>    Richard</td>\n",
        "      <td> Bassett</td>\n",
        "      <td> M</td>\n",
        "      <td>1745-04-02 00:00:00</td>\n",
        "    </tr>\n",
        "    <tr>\n",
        "      <th>1789-03-04</th>\n",
        "      <td> VA</td>\n",
        "      <td> rep</td>\n",
        "      <td>1789-03-04 00:00:00</td>\n",
        "      <td>1791-03-03 00:00:00</td>\n",
        "      <td>                None</td>\n",
        "      <td> Theodorick</td>\n",
        "      <td>   Bland</td>\n",
        "      <td> M</td>\n",
        "      <td>1742-03-21 00:00:00</td>\n",
        "    </tr>\n",
        "    <tr>\n",
        "      <th>1789-03-04</th>\n",
        "      <td> SC</td>\n",
        "      <td> rep</td>\n",
        "      <td>1789-03-04 00:00:00</td>\n",
        "      <td>1791-03-03 00:00:00</td>\n",
        "      <td>                None</td>\n",
        "      <td>    Aedanus</td>\n",
        "      <td>   Burke</td>\n",
        "      <td> M</td>\n",
        "      <td>1743-06-16 00:00:00</td>\n",
        "    </tr>\n",
        "    <tr>\n",
        "      <th>1789-03-04</th>\n",
        "      <td> MD</td>\n",
        "      <td> rep</td>\n",
        "      <td>1789-03-04 00:00:00</td>\n",
        "      <td>1791-03-03 00:00:00</td>\n",
        "      <td>                None</td>\n",
        "      <td>     Daniel</td>\n",
        "      <td> Carroll</td>\n",
        "      <td> M</td>\n",
        "      <td>1730-07-22 00:00:00</td>\n",
        "    </tr>\n",
        "    <tr>\n",
        "      <th>1789-03-04</th>\n",
        "      <td> PA</td>\n",
        "      <td> rep</td>\n",
        "      <td>1789-03-04 00:00:00</td>\n",
        "      <td>1791-03-03 00:00:00</td>\n",
        "      <td>                None</td>\n",
        "      <td>     George</td>\n",
        "      <td>  Clymer</td>\n",
        "      <td> M</td>\n",
        "      <td>1739-03-16 00:00:00</td>\n",
        "    </tr>\n",
        "  </tbody>\n",
        "</table>\n",
        "</div>"
       ],
       "metadata": {},
       "output_type": "display_data",
       "text": [
        "           state type               start                 end  \\\n",
        "start                                                           \n",
        "1789-03-04    DE  sen 1789-03-04 00:00:00 1793-03-02 00:00:00   \n",
        "1789-03-04    VA  rep 1789-03-04 00:00:00 1791-03-03 00:00:00   \n",
        "1789-03-04    SC  rep 1789-03-04 00:00:00 1791-03-03 00:00:00   \n",
        "1789-03-04    MD  rep 1789-03-04 00:00:00 1791-03-03 00:00:00   \n",
        "1789-03-04    PA  rep 1789-03-04 00:00:00 1791-03-03 00:00:00   \n",
        "\n",
        "                          party       first     last gender  \\\n",
        "start                                                         \n",
        "1789-03-04  Anti-Administration     Richard  Bassett      M   \n",
        "1789-03-04                 None  Theodorick    Bland      M   \n",
        "1789-03-04                 None     Aedanus    Burke      M   \n",
        "1789-03-04                 None      Daniel  Carroll      M   \n",
        "1789-03-04                 None      George   Clymer      M   \n",
        "\n",
        "                      birthday  \n",
        "start                           \n",
        "1789-03-04 1745-04-02 00:00:00  \n",
        "1789-03-04 1742-03-21 00:00:00  \n",
        "1789-03-04 1743-06-16 00:00:00  \n",
        "1789-03-04 1730-07-22 00:00:00  \n",
        "1789-03-04 1739-03-16 00:00:00  "
       ]
      },
      {
       "html": [
        "<pre>\n",
        "&lt;class 'pandas.core.frame.DataFrame'&gt;\n",
        "DatetimeIndex: 42493 entries, 1789-03-04 00:00:00 to 2013-06-10 00:00:00\n",
        "Data columns (total 9 columns):\n",
        "state       42493  non-null values\n",
        "type        42493  non-null values\n",
        "start       42493  non-null values\n",
        "end         42493  non-null values\n",
        "party       42032  non-null values\n",
        "first       42493  non-null values\n",
        "last        42493  non-null values\n",
        "gender      42493  non-null values\n",
        "birthday    41240  non-null values\n",
        "dtypes: datetime64[ns](3), object(6)\n",
        "</pre>"
       ],
       "metadata": {},
       "output_type": "display_data",
       "text": [
        "<class 'pandas.core.frame.DataFrame'>\n",
        "DatetimeIndex: 42493 entries, 1789-03-04 00:00:00 to 2013-06-10 00:00:00\n",
        "Data columns (total 9 columns):\n",
        "state       42493  non-null values\n",
        "type        42493  non-null values\n",
        "start       42493  non-null values\n",
        "end         42493  non-null values\n",
        "party       42032  non-null values\n",
        "first       42493  non-null values\n",
        "last        42493  non-null values\n",
        "gender      42493  non-null values\n",
        "birthday    41240  non-null values\n",
        "dtypes: datetime64[ns](3), object(6)"
       ]
      }
     ],
     "prompt_number": 287
    },
    {
     "cell_type": "code",
     "collapsed": false,
     "input": [
      "col = df['party']\n",
      "uniques = dict.fromkeys(col.unique())\n",
      "#print(uniques)\n",
      "\n",
      "_party_map = {}\n",
      "repub, democ, other = [], [], []\n",
      "for x in uniques:\n",
      "    if x is not None:\n",
      "        if 'Republ' in x:\n",
      "            repub.append(x)\n",
      "            _party_map[x] = 'Republican'\n",
      "        elif 'Democr' in x:\n",
      "            democ.append(x)\n",
      "            _party_map[x] = 'Democrat'\n",
      "        else:\n",
      "            other.append(x)\n",
      "            _party_map[x] = 'Other' # ...\n",
      "    else:\n",
      "        other.append(x)\n",
      "        _party_map[x] = 'Other' # ...\n",
      "        \n",
      "\n",
      "print(len(repub), repub)\n",
      "print(len(democ), democ)\n",
      "print(len(other), other)\n"
     ],
     "language": "python",
     "metadata": {},
     "outputs": [
      {
       "output_type": "stream",
       "stream": "stdout",
       "text": [
        "(15, ['Progressive Republican', 'Crawford Republican', 'Democratic Republican', 'Jackson Republican', 'Conservative Republican', 'Ind. Republican', 'Jacksonian Republican', 'Democrat-turned-Republican', 'Liberal Republican', 'Ind. Republican-Democrat', 'Democrat/Republican', 'Silver Republican', 'Republican', 'Independent/Republican', 'Republican-Conservative'])\n",
        "(12, ['Adams Democrat', 'Ind. Democrat', 'Readjuster Democrat', 'Democrat/Independent', 'Democrat-Liberal', 'Independent Democrat', 'Democrat', 'Popular Democrat', 'Anti-Lecompton Democrat', 'Democratic and Union Labor', 'Democrat Farmer Labor', 'Union Democrat'])\n",
        "(45, ['States Rights', 'Jackson', 'New Progressive', 'Union', 'Unknown', 'Nullifier', 'Liberty', 'Conservative', 'Constitutional Unionist', 'Law and Order', 'Progressive', 'Independent', 'Readjuster', 'American Labor', 'Jacksonian', 'Anti Mason', 'Union Labor', 'Unionist', 'Free Soil', 'Nonpartisan', 'Silver', 'Anti Jackson', 'Federalist', 'Anti-administration', 'Adams', 'Pro-Administration', 'Populist', 'AL', 'Liberal', 'American', 'National Greenbacker', 'Farmer-Labor', 'Prohibitionist', 'Anti-Administration', 'Pro-administration', 'Whig', 'Anti-Jacksonian', 'Coalitionist', 'Anti Jacksonian', 'Socialist', None, 'Anti Masonic', 'Unconditional Unionist', 'Ind. Whig', 'Free Silver'])\n"
       ]
      }
     ],
     "prompt_number": 288
    },
    {
     "cell_type": "code",
     "collapsed": false,
     "input": [
      "\n",
      "display(df['1949':]['party'].value_counts())\n",
      "display(df[df['party']=='Liberal'])"
     ],
     "language": "python",
     "metadata": {},
     "outputs": [
      {
       "metadata": {},
       "output_type": "display_data",
       "text": [
        "Democrat                      8957\n",
        "Republican                    6946\n",
        "Independent                     22\n",
        "Popular Democrat                13\n",
        "New Progressive                  6\n",
        "Democrat Farmer Labor            5\n",
        "Democrat/Republican              2\n",
        "Ind. Democrat                    2\n",
        "Democrat-Liberal                 2\n",
        "Democrat-turned-Republican       2\n",
        "Liberal                          1\n",
        "AL                               1\n",
        "Democrat/Independent             1\n",
        "American Labor                   1\n",
        "Independent/Republican           1\n",
        "Conservative                     1\n",
        "Republican-Conservative          1\n",
        "dtype: int64"
       ]
      },
      {
       "html": [
        "<div style=\"max-height:1000px;max-width:1500px;overflow:auto;\">\n",
        "<table border=\"1\" class=\"dataframe\">\n",
        "  <thead>\n",
        "    <tr style=\"text-align: right;\">\n",
        "      <th></th>\n",
        "      <th>state</th>\n",
        "      <th>type</th>\n",
        "      <th>start</th>\n",
        "      <th>end</th>\n",
        "      <th>party</th>\n",
        "      <th>first</th>\n",
        "      <th>last</th>\n",
        "      <th>gender</th>\n",
        "      <th>birthday</th>\n",
        "    </tr>\n",
        "    <tr>\n",
        "      <th>start</th>\n",
        "      <th></th>\n",
        "      <th></th>\n",
        "      <th></th>\n",
        "      <th></th>\n",
        "      <th></th>\n",
        "      <th></th>\n",
        "      <th></th>\n",
        "      <th></th>\n",
        "      <th></th>\n",
        "    </tr>\n",
        "  </thead>\n",
        "  <tbody>\n",
        "    <tr>\n",
        "      <th>1949-01-03</th>\n",
        "      <td> NY</td>\n",
        "      <td> rep</td>\n",
        "      <td>1949-01-03 00:00:00</td>\n",
        "      <td>1951-01-02 00:00:00</td>\n",
        "      <td> Liberal</td>\n",
        "      <td> Franklin</td>\n",
        "      <td> Roosevelt</td>\n",
        "      <td> M</td>\n",
        "      <td>1914-08-17 00:00:00</td>\n",
        "    </tr>\n",
        "  </tbody>\n",
        "</table>\n",
        "</div>"
       ],
       "metadata": {},
       "output_type": "display_data",
       "text": [
        "           state type               start                 end    party  \\\n",
        "start                                                                    \n",
        "1949-01-03    NY  rep 1949-01-03 00:00:00 1951-01-02 00:00:00  Liberal   \n",
        "\n",
        "               first       last gender            birthday  \n",
        "start                                                       \n",
        "1949-01-03  Franklin  Roosevelt      M 1914-08-17 00:00:00  "
       ]
      }
     ],
     "prompt_number": 289
    },
    {
     "cell_type": "code",
     "collapsed": false,
     "input": [
      "# print(df2[df2['state'] == 'NE'][['type', 'party','first','last']].sort().to_string())"
     ],
     "language": "python",
     "metadata": {},
     "outputs": [],
     "prompt_number": 186
    },
    {
     "cell_type": "code",
     "collapsed": false,
     "input": [
      "print('# party')\n",
      "print(df[df['state'] == 'NE']['party'].value_counts(normalize=True))\n",
      "print('# type')\n",
      "print(df[df['state'] == 'NE']['type'].value_counts())"
     ],
     "language": "python",
     "metadata": {},
     "outputs": [
      {
       "output_type": "stream",
       "stream": "stdout",
       "text": [
        "# party\n",
        "Republican            0.719346\n",
        "Democrat              0.226158\n",
        "Populist              0.046322\n",
        "Independent           0.002725\n",
        "Liberal Republican    0.002725\n",
        "dtype: float64\n",
        "# type\n",
        "rep    305\n",
        "sen     62\n",
        "dtype: int64\n"
       ]
      }
     ],
     "prompt_number": 290
    },
    {
     "cell_type": "code",
     "collapsed": false,
     "input": [
      "df['two_party_fail'] = df['party'].apply(lambda x: _party_map.get(x))\n",
      "display( df['two_party_fail'].value_counts() )\n",
      "display( df['two_party_fail'].value_counts(normalize=True) )"
     ],
     "language": "python",
     "metadata": {},
     "outputs": [
      {
       "metadata": {},
       "output_type": "display_data",
       "text": [
        "Democrat      19805\n",
        "Republican    18294\n",
        "Other          4394\n",
        "dtype: int64"
       ]
      },
      {
       "metadata": {},
       "output_type": "display_data",
       "text": [
        "Democrat      0.466077\n",
        "Republican    0.430518\n",
        "Other         0.103405\n",
        "dtype: float64"
       ]
      }
     ],
     "prompt_number": 291
    },
    {
     "cell_type": "code",
     "collapsed": false,
     "input": [
      "# objective: draw chart with per-year, per-two-party-counts\n",
      "# group by year\n",
      "# count factors\n",
      "\n",
      "def start_year(x):\n",
      "    return x.year - (x.year % 2)\n",
      "\n",
      "grouper = df.groupby([start_year, 'two_party_fail'])\n",
      "\n",
      "whoa = grouper.aggregate({'two_party_fail':len}).unstack()\n",
      "\n",
      "display(whoa.plot())\n",
      "display(whoa.head())\n",
      "display(whoa.tail())\n",
      "\n",
      "#df.pivot_table(values='two_party_fail', cols=['start'], aggfunc=len)"
     ],
     "language": "python",
     "metadata": {},
     "outputs": [
      {
       "metadata": {},
       "output_type": "display_data",
       "text": [
        "<matplotlib.axes.AxesSubplot at 0x9eacb910>"
       ]
      },
      {
       "html": [
        "<div style=\"max-height:1000px;max-width:1500px;overflow:auto;\">\n",
        "<table border=\"1\" class=\"dataframe\">\n",
        "  <thead>\n",
        "    <tr>\n",
        "      <th></th>\n",
        "      <th colspan=\"3\" halign=\"left\">two_party_fail</th>\n",
        "    </tr>\n",
        "    <tr>\n",
        "      <th>two_party_fail</th>\n",
        "      <th>Democrat</th>\n",
        "      <th>Other</th>\n",
        "      <th>Republican</th>\n",
        "    </tr>\n",
        "  </thead>\n",
        "  <tbody>\n",
        "    <tr>\n",
        "      <th>1788</th>\n",
        "      <td>NaN</td>\n",
        "      <td> 77</td>\n",
        "      <td> 13</td>\n",
        "    </tr>\n",
        "    <tr>\n",
        "      <th>1790</th>\n",
        "      <td>NaN</td>\n",
        "      <td> 68</td>\n",
        "      <td> 17</td>\n",
        "    </tr>\n",
        "    <tr>\n",
        "      <th>1792</th>\n",
        "      <td>NaN</td>\n",
        "      <td> 84</td>\n",
        "      <td> 40</td>\n",
        "    </tr>\n",
        "    <tr>\n",
        "      <th>1794</th>\n",
        "      <td>NaN</td>\n",
        "      <td> 64</td>\n",
        "      <td> 65</td>\n",
        "    </tr>\n",
        "    <tr>\n",
        "      <th>1796</th>\n",
        "      <td>NaN</td>\n",
        "      <td> 80</td>\n",
        "      <td> 61</td>\n",
        "    </tr>\n",
        "  </tbody>\n",
        "</table>\n",
        "</div>"
       ],
       "metadata": {},
       "output_type": "display_data",
       "text": [
        "                two_party_fail                   \n",
        "two_party_fail        Democrat  Other  Republican\n",
        "1788                       NaN     77          13\n",
        "1790                       NaN     68          17\n",
        "1792                       NaN     84          40\n",
        "1794                       NaN     64          65\n",
        "1796                       NaN     80          61"
       ]
      },
      {
       "html": [
        "<div style=\"max-height:1000px;max-width:1500px;overflow:auto;\">\n",
        "<table border=\"1\" class=\"dataframe\">\n",
        "  <thead>\n",
        "    <tr>\n",
        "      <th></th>\n",
        "      <th colspan=\"3\" halign=\"left\">two_party_fail</th>\n",
        "    </tr>\n",
        "    <tr>\n",
        "      <th>two_party_fail</th>\n",
        "      <th>Democrat</th>\n",
        "      <th>Other</th>\n",
        "      <th>Republican</th>\n",
        "    </tr>\n",
        "  </thead>\n",
        "  <tbody>\n",
        "    <tr>\n",
        "      <th>2004</th>\n",
        "      <td> 225</td>\n",
        "      <td>  1</td>\n",
        "      <td> 253</td>\n",
        "    </tr>\n",
        "    <tr>\n",
        "      <th>2006</th>\n",
        "      <td> 263</td>\n",
        "      <td>  2</td>\n",
        "      <td> 219</td>\n",
        "    </tr>\n",
        "    <tr>\n",
        "      <th>2008</th>\n",
        "      <td> 298</td>\n",
        "      <td>NaN</td>\n",
        "      <td> 194</td>\n",
        "    </tr>\n",
        "    <tr>\n",
        "      <th>2010</th>\n",
        "      <td> 215</td>\n",
        "      <td>NaN</td>\n",
        "      <td> 275</td>\n",
        "    </tr>\n",
        "    <tr>\n",
        "      <th>2012</th>\n",
        "      <td> 238</td>\n",
        "      <td>  2</td>\n",
        "      <td> 246</td>\n",
        "    </tr>\n",
        "  </tbody>\n",
        "</table>\n",
        "</div>"
       ],
       "metadata": {},
       "output_type": "display_data",
       "text": [
        "                two_party_fail                   \n",
        "two_party_fail        Democrat  Other  Republican\n",
        "2004                       225      1         253\n",
        "2006                       263      2         219\n",
        "2008                       298    NaN         194\n",
        "2010                       215    NaN         275\n",
        "2012                       238      2         246"
       ]
      },
      {
       "metadata": {},
       "output_type": "display_data",
       "png": "[encoded data removed]",
       "text": [
        "<matplotlib.figure.Figure at 0x9eacb290>"
       ]
      }
     ],
     "prompt_number": 292
    },
    {
     "cell_type": "code",
     "collapsed": false,
     "input": [
      "grouper = df.groupby([start_year, 'gender'])\n",
      "\n",
      "whoa = grouper.aggregate({'gender':len}).unstack()\n",
      "display(whoa.plot())\n"
     ],
     "language": "python",
     "metadata": {},
     "outputs": [
      {
       "metadata": {},
       "output_type": "display_data",
       "text": [
        "<matplotlib.axes.AxesSubplot at 0x4354e90>"
       ]
      },
      {
       "metadata": {},
       "output_type": "display_data",
       "png": "[encoded data removed]",
       "text": [
        "<matplotlib.figure.Figure at 0xea675d0>"
       ]
      }
     ],
     "prompt_number": 294
    },
    {
     "cell_type": "code",
     "collapsed": false,
     "input": [
      "# Q. how are these misleading / maybe not as helpful as they could be?\n",
      "# 1. they count by start year, so they don't show the state at any given time\n",
      "#    to show the state at any given time would require\n",
      "#    a 'currently_serving' function\n",
      "#    which, one might think could take into account standard terms/elections\n",
      "#    as appropriate for rep/sen,\n",
      "#    but there are special cases in mid-stream\n",
      "\n",
      "# 2. they do not stratify by rep/sen; the counts are lumped together\n",
      "#    'share_y' split by 'type' might be helpful\n",
      "\n",
      "# ... how many hours would it take to draw these in [spreadsheet tool]\n",
      "#     only to realize that you have no idea what \n",
      "#     'settings' were used to create a (very beautiful) chart?\n",
      "#     ... python tools for visual studio now support \n",
      "#         something like `ipython --pylab=inline/qt`\n",
      "#         ... i work on various platforms, so that's not an option for me\n",
      "#         ... not sure what sort of configuration is required to get\n",
      "#             anaconda ce working with this ide\n",
      "#     ... ipython qt, ipython notebook\n",
      "#     ... spyder ide\n",
      "#     ... you can run these as scheduled jobs which generate online charts,\n",
      "#         but then, still, without the source,\n",
      "#         what smoke are you\n",
      "# ... \"you can get a good look at a t-bone steak by\""
     ],
     "language": "python",
     "metadata": {},
     "outputs": [],
     "prompt_number": 306
    }
   ],
   "metadata": {}
  }
 ]
}